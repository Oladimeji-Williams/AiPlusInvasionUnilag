{
 "cells": [
  {
   "cell_type": "markdown",
   "metadata": {},
   "source": [
    "# Import All Libraries"
   ]
  },
  {
   "cell_type": "code",
   "execution_count": 1,
   "metadata": {},
   "outputs": [],
   "source": [
    "import matplotlib.pyplot as plt\n",
    "import seaborn as sns\n",
    "import pandas as pd\n",
    "import numpy as np\n",
    "from sklearn.model_selection import train_test_split\n",
    "from sklearn.preprocessing import StandardScaler\n",
    "from sklearn.ensemble import RandomForestClassifier\n",
    "from sklearn.linear_model import LogisticRegression"
   ]
  },
  {
   "cell_type": "markdown",
   "metadata": {},
   "source": [
    "# Import the Dataset"
   ]
  },
  {
   "cell_type": "code",
   "execution_count": 2,
   "metadata": {},
   "outputs": [],
   "source": [
    "titanic = pd.read_csv(r\"C:\\Users\\Williams\\Desktop\\datascience\\AiPlusInvasion\\Data\\titanic_train.csv\")"
   ]
  },
  {
   "cell_type": "code",
   "execution_count": 3,
   "metadata": {},
   "outputs": [],
   "source": [
    "#copy the dataset into another variable\n",
    "titanic_copy = titanic.copy()"
   ]
  },
  {
   "cell_type": "markdown",
   "metadata": {},
   "source": [
    "# Inspect the Dataset"
   ]
  },
  {
   "cell_type": "code",
   "execution_count": 4,
   "metadata": {},
   "outputs": [
    {
     "data": {
      "text/html": [
       "<div>\n",
       "<style scoped>\n",
       "    .dataframe tbody tr th:only-of-type {\n",
       "        vertical-align: middle;\n",
       "    }\n",
       "\n",
       "    .dataframe tbody tr th {\n",
       "        vertical-align: top;\n",
       "    }\n",
       "\n",
       "    .dataframe thead th {\n",
       "        text-align: right;\n",
       "    }\n",
       "</style>\n",
       "<table border=\"1\" class=\"dataframe\">\n",
       "  <thead>\n",
       "    <tr style=\"text-align: right;\">\n",
       "      <th></th>\n",
       "      <th>passenger_id</th>\n",
       "      <th>pclass</th>\n",
       "      <th>name</th>\n",
       "      <th>sex</th>\n",
       "      <th>age</th>\n",
       "      <th>sibsp</th>\n",
       "      <th>parch</th>\n",
       "      <th>ticket</th>\n",
       "      <th>fare</th>\n",
       "      <th>cabin</th>\n",
       "      <th>embarked</th>\n",
       "      <th>boat</th>\n",
       "      <th>body</th>\n",
       "      <th>home.dest</th>\n",
       "      <th>survived</th>\n",
       "    </tr>\n",
       "  </thead>\n",
       "  <tbody>\n",
       "    <tr>\n",
       "      <th>0</th>\n",
       "      <td>1216</td>\n",
       "      <td>3</td>\n",
       "      <td>Smyth, Miss. Julia</td>\n",
       "      <td>female</td>\n",
       "      <td>NaN</td>\n",
       "      <td>0</td>\n",
       "      <td>0</td>\n",
       "      <td>335432</td>\n",
       "      <td>7.7333</td>\n",
       "      <td>NaN</td>\n",
       "      <td>Q</td>\n",
       "      <td>13</td>\n",
       "      <td>NaN</td>\n",
       "      <td>NaN</td>\n",
       "      <td>1</td>\n",
       "    </tr>\n",
       "    <tr>\n",
       "      <th>1</th>\n",
       "      <td>699</td>\n",
       "      <td>3</td>\n",
       "      <td>Cacic, Mr. Luka</td>\n",
       "      <td>male</td>\n",
       "      <td>38.0</td>\n",
       "      <td>0</td>\n",
       "      <td>0</td>\n",
       "      <td>315089</td>\n",
       "      <td>8.6625</td>\n",
       "      <td>NaN</td>\n",
       "      <td>S</td>\n",
       "      <td>NaN</td>\n",
       "      <td>NaN</td>\n",
       "      <td>Croatia</td>\n",
       "      <td>0</td>\n",
       "    </tr>\n",
       "    <tr>\n",
       "      <th>2</th>\n",
       "      <td>1267</td>\n",
       "      <td>3</td>\n",
       "      <td>Van Impe, Mrs. Jean Baptiste (Rosalie Paula Go...</td>\n",
       "      <td>female</td>\n",
       "      <td>30.0</td>\n",
       "      <td>1</td>\n",
       "      <td>1</td>\n",
       "      <td>345773</td>\n",
       "      <td>24.1500</td>\n",
       "      <td>NaN</td>\n",
       "      <td>S</td>\n",
       "      <td>NaN</td>\n",
       "      <td>NaN</td>\n",
       "      <td>NaN</td>\n",
       "      <td>0</td>\n",
       "    </tr>\n",
       "    <tr>\n",
       "      <th>3</th>\n",
       "      <td>449</td>\n",
       "      <td>2</td>\n",
       "      <td>Hocking, Mrs. Elizabeth (Eliza Needs)</td>\n",
       "      <td>female</td>\n",
       "      <td>54.0</td>\n",
       "      <td>1</td>\n",
       "      <td>3</td>\n",
       "      <td>29105</td>\n",
       "      <td>23.0000</td>\n",
       "      <td>NaN</td>\n",
       "      <td>S</td>\n",
       "      <td>4</td>\n",
       "      <td>NaN</td>\n",
       "      <td>Cornwall / Akron, OH</td>\n",
       "      <td>1</td>\n",
       "    </tr>\n",
       "    <tr>\n",
       "      <th>4</th>\n",
       "      <td>576</td>\n",
       "      <td>2</td>\n",
       "      <td>Veal, Mr. James</td>\n",
       "      <td>male</td>\n",
       "      <td>40.0</td>\n",
       "      <td>0</td>\n",
       "      <td>0</td>\n",
       "      <td>28221</td>\n",
       "      <td>13.0000</td>\n",
       "      <td>NaN</td>\n",
       "      <td>S</td>\n",
       "      <td>NaN</td>\n",
       "      <td>NaN</td>\n",
       "      <td>Barre, Co Washington, VT</td>\n",
       "      <td>0</td>\n",
       "    </tr>\n",
       "    <tr>\n",
       "      <th>...</th>\n",
       "      <td>...</td>\n",
       "      <td>...</td>\n",
       "      <td>...</td>\n",
       "      <td>...</td>\n",
       "      <td>...</td>\n",
       "      <td>...</td>\n",
       "      <td>...</td>\n",
       "      <td>...</td>\n",
       "      <td>...</td>\n",
       "      <td>...</td>\n",
       "      <td>...</td>\n",
       "      <td>...</td>\n",
       "      <td>...</td>\n",
       "      <td>...</td>\n",
       "      <td>...</td>\n",
       "    </tr>\n",
       "    <tr>\n",
       "      <th>845</th>\n",
       "      <td>158</td>\n",
       "      <td>1</td>\n",
       "      <td>Hipkins, Mr. William Edward</td>\n",
       "      <td>male</td>\n",
       "      <td>55.0</td>\n",
       "      <td>0</td>\n",
       "      <td>0</td>\n",
       "      <td>680</td>\n",
       "      <td>50.0000</td>\n",
       "      <td>C39</td>\n",
       "      <td>S</td>\n",
       "      <td>NaN</td>\n",
       "      <td>NaN</td>\n",
       "      <td>London / Birmingham</td>\n",
       "      <td>0</td>\n",
       "    </tr>\n",
       "    <tr>\n",
       "      <th>846</th>\n",
       "      <td>174</td>\n",
       "      <td>1</td>\n",
       "      <td>Kent, Mr. Edward Austin</td>\n",
       "      <td>male</td>\n",
       "      <td>58.0</td>\n",
       "      <td>0</td>\n",
       "      <td>0</td>\n",
       "      <td>11771</td>\n",
       "      <td>29.7000</td>\n",
       "      <td>B37</td>\n",
       "      <td>C</td>\n",
       "      <td>NaN</td>\n",
       "      <td>258.0</td>\n",
       "      <td>Buffalo, NY</td>\n",
       "      <td>0</td>\n",
       "    </tr>\n",
       "    <tr>\n",
       "      <th>847</th>\n",
       "      <td>467</td>\n",
       "      <td>2</td>\n",
       "      <td>Kantor, Mrs. Sinai (Miriam Sternin)</td>\n",
       "      <td>female</td>\n",
       "      <td>24.0</td>\n",
       "      <td>1</td>\n",
       "      <td>0</td>\n",
       "      <td>244367</td>\n",
       "      <td>26.0000</td>\n",
       "      <td>NaN</td>\n",
       "      <td>S</td>\n",
       "      <td>12</td>\n",
       "      <td>NaN</td>\n",
       "      <td>Moscow / Bronx, NY</td>\n",
       "      <td>1</td>\n",
       "    </tr>\n",
       "    <tr>\n",
       "      <th>848</th>\n",
       "      <td>1112</td>\n",
       "      <td>3</td>\n",
       "      <td>Peacock, Miss. Treasteall</td>\n",
       "      <td>female</td>\n",
       "      <td>3.0</td>\n",
       "      <td>1</td>\n",
       "      <td>1</td>\n",
       "      <td>SOTON/O.Q. 3101315</td>\n",
       "      <td>13.7750</td>\n",
       "      <td>NaN</td>\n",
       "      <td>S</td>\n",
       "      <td>NaN</td>\n",
       "      <td>NaN</td>\n",
       "      <td>NaN</td>\n",
       "      <td>0</td>\n",
       "    </tr>\n",
       "    <tr>\n",
       "      <th>849</th>\n",
       "      <td>425</td>\n",
       "      <td>2</td>\n",
       "      <td>Greenberg, Mr. Samuel</td>\n",
       "      <td>male</td>\n",
       "      <td>52.0</td>\n",
       "      <td>0</td>\n",
       "      <td>0</td>\n",
       "      <td>250647</td>\n",
       "      <td>13.0000</td>\n",
       "      <td>NaN</td>\n",
       "      <td>S</td>\n",
       "      <td>NaN</td>\n",
       "      <td>19.0</td>\n",
       "      <td>Bronx, NY</td>\n",
       "      <td>0</td>\n",
       "    </tr>\n",
       "  </tbody>\n",
       "</table>\n",
       "<p>850 rows × 15 columns</p>\n",
       "</div>"
      ],
      "text/plain": [
       "     passenger_id  pclass                                               name  \\\n",
       "0            1216       3                                 Smyth, Miss. Julia   \n",
       "1             699       3                                    Cacic, Mr. Luka   \n",
       "2            1267       3  Van Impe, Mrs. Jean Baptiste (Rosalie Paula Go...   \n",
       "3             449       2              Hocking, Mrs. Elizabeth (Eliza Needs)   \n",
       "4             576       2                                    Veal, Mr. James   \n",
       "..            ...     ...                                                ...   \n",
       "845           158       1                        Hipkins, Mr. William Edward   \n",
       "846           174       1                            Kent, Mr. Edward Austin   \n",
       "847           467       2                Kantor, Mrs. Sinai (Miriam Sternin)   \n",
       "848          1112       3                          Peacock, Miss. Treasteall   \n",
       "849           425       2                              Greenberg, Mr. Samuel   \n",
       "\n",
       "        sex   age  sibsp  parch              ticket     fare cabin embarked  \\\n",
       "0    female   NaN      0      0              335432   7.7333   NaN        Q   \n",
       "1      male  38.0      0      0              315089   8.6625   NaN        S   \n",
       "2    female  30.0      1      1              345773  24.1500   NaN        S   \n",
       "3    female  54.0      1      3               29105  23.0000   NaN        S   \n",
       "4      male  40.0      0      0               28221  13.0000   NaN        S   \n",
       "..      ...   ...    ...    ...                 ...      ...   ...      ...   \n",
       "845    male  55.0      0      0                 680  50.0000   C39        S   \n",
       "846    male  58.0      0      0               11771  29.7000   B37        C   \n",
       "847  female  24.0      1      0              244367  26.0000   NaN        S   \n",
       "848  female   3.0      1      1  SOTON/O.Q. 3101315  13.7750   NaN        S   \n",
       "849    male  52.0      0      0              250647  13.0000   NaN        S   \n",
       "\n",
       "    boat   body                 home.dest  survived  \n",
       "0     13    NaN                       NaN         1  \n",
       "1    NaN    NaN                   Croatia         0  \n",
       "2    NaN    NaN                       NaN         0  \n",
       "3      4    NaN      Cornwall / Akron, OH         1  \n",
       "4    NaN    NaN  Barre, Co Washington, VT         0  \n",
       "..   ...    ...                       ...       ...  \n",
       "845  NaN    NaN       London / Birmingham         0  \n",
       "846  NaN  258.0               Buffalo, NY         0  \n",
       "847   12    NaN        Moscow / Bronx, NY         1  \n",
       "848  NaN    NaN                       NaN         0  \n",
       "849  NaN   19.0                 Bronx, NY         0  \n",
       "\n",
       "[850 rows x 15 columns]"
      ]
     },
     "execution_count": 4,
     "metadata": {},
     "output_type": "execute_result"
    }
   ],
   "source": [
    "#inspect the records\n",
    "titanic_copy"
   ]
  },
  {
   "cell_type": "code",
   "execution_count": 5,
   "metadata": {},
   "outputs": [
    {
     "name": "stdout",
     "output_type": "stream",
     "text": [
      "<class 'pandas.core.frame.DataFrame'>\n",
      "RangeIndex: 850 entries, 0 to 849\n",
      "Data columns (total 15 columns):\n",
      " #   Column        Non-Null Count  Dtype  \n",
      "---  ------        --------------  -----  \n",
      " 0   passenger_id  850 non-null    int64  \n",
      " 1   pclass        850 non-null    int64  \n",
      " 2   name          850 non-null    object \n",
      " 3   sex           850 non-null    object \n",
      " 4   age           676 non-null    float64\n",
      " 5   sibsp         850 non-null    int64  \n",
      " 6   parch         850 non-null    int64  \n",
      " 7   ticket        850 non-null    object \n",
      " 8   fare          849 non-null    float64\n",
      " 9   cabin         191 non-null    object \n",
      " 10  embarked      849 non-null    object \n",
      " 11  boat          308 non-null    object \n",
      " 12  body          73 non-null     float64\n",
      " 13  home.dest     464 non-null    object \n",
      " 14  survived      850 non-null    int64  \n",
      "dtypes: float64(3), int64(5), object(7)\n",
      "memory usage: 99.7+ KB\n"
     ]
    }
   ],
   "source": [
    "titanic_copy.info()"
   ]
  },
  {
   "cell_type": "code",
   "execution_count": 6,
   "metadata": {},
   "outputs": [
    {
     "data": {
      "text/html": [
       "<div>\n",
       "<style scoped>\n",
       "    .dataframe tbody tr th:only-of-type {\n",
       "        vertical-align: middle;\n",
       "    }\n",
       "\n",
       "    .dataframe tbody tr th {\n",
       "        vertical-align: top;\n",
       "    }\n",
       "\n",
       "    .dataframe thead th {\n",
       "        text-align: right;\n",
       "    }\n",
       "</style>\n",
       "<table border=\"1\" class=\"dataframe\">\n",
       "  <thead>\n",
       "    <tr style=\"text-align: right;\">\n",
       "      <th></th>\n",
       "      <th>passenger_id</th>\n",
       "      <th>pclass</th>\n",
       "      <th>age</th>\n",
       "      <th>sibsp</th>\n",
       "      <th>parch</th>\n",
       "      <th>fare</th>\n",
       "      <th>body</th>\n",
       "      <th>survived</th>\n",
       "    </tr>\n",
       "  </thead>\n",
       "  <tbody>\n",
       "    <tr>\n",
       "      <th>count</th>\n",
       "      <td>850.000000</td>\n",
       "      <td>850.00000</td>\n",
       "      <td>676.000000</td>\n",
       "      <td>850.000000</td>\n",
       "      <td>850.000000</td>\n",
       "      <td>849.000000</td>\n",
       "      <td>73.000000</td>\n",
       "      <td>850.000000</td>\n",
       "    </tr>\n",
       "    <tr>\n",
       "      <th>mean</th>\n",
       "      <td>662.816471</td>\n",
       "      <td>2.32000</td>\n",
       "      <td>29.519847</td>\n",
       "      <td>0.522353</td>\n",
       "      <td>0.382353</td>\n",
       "      <td>34.012701</td>\n",
       "      <td>165.821918</td>\n",
       "      <td>0.368235</td>\n",
       "    </tr>\n",
       "    <tr>\n",
       "      <th>std</th>\n",
       "      <td>380.751936</td>\n",
       "      <td>0.83853</td>\n",
       "      <td>14.562243</td>\n",
       "      <td>1.112132</td>\n",
       "      <td>0.879511</td>\n",
       "      <td>53.705779</td>\n",
       "      <td>99.068487</td>\n",
       "      <td>0.482610</td>\n",
       "    </tr>\n",
       "    <tr>\n",
       "      <th>min</th>\n",
       "      <td>1.000000</td>\n",
       "      <td>1.00000</td>\n",
       "      <td>0.166700</td>\n",
       "      <td>0.000000</td>\n",
       "      <td>0.000000</td>\n",
       "      <td>0.000000</td>\n",
       "      <td>4.000000</td>\n",
       "      <td>0.000000</td>\n",
       "    </tr>\n",
       "    <tr>\n",
       "      <th>25%</th>\n",
       "      <td>332.250000</td>\n",
       "      <td>2.00000</td>\n",
       "      <td>20.000000</td>\n",
       "      <td>0.000000</td>\n",
       "      <td>0.000000</td>\n",
       "      <td>7.895800</td>\n",
       "      <td>75.000000</td>\n",
       "      <td>0.000000</td>\n",
       "    </tr>\n",
       "    <tr>\n",
       "      <th>50%</th>\n",
       "      <td>676.500000</td>\n",
       "      <td>3.00000</td>\n",
       "      <td>28.000000</td>\n",
       "      <td>0.000000</td>\n",
       "      <td>0.000000</td>\n",
       "      <td>14.108300</td>\n",
       "      <td>166.000000</td>\n",
       "      <td>0.000000</td>\n",
       "    </tr>\n",
       "    <tr>\n",
       "      <th>75%</th>\n",
       "      <td>992.250000</td>\n",
       "      <td>3.00000</td>\n",
       "      <td>37.000000</td>\n",
       "      <td>1.000000</td>\n",
       "      <td>0.000000</td>\n",
       "      <td>31.000000</td>\n",
       "      <td>260.000000</td>\n",
       "      <td>1.000000</td>\n",
       "    </tr>\n",
       "    <tr>\n",
       "      <th>max</th>\n",
       "      <td>1307.000000</td>\n",
       "      <td>3.00000</td>\n",
       "      <td>80.000000</td>\n",
       "      <td>8.000000</td>\n",
       "      <td>9.000000</td>\n",
       "      <td>512.329200</td>\n",
       "      <td>328.000000</td>\n",
       "      <td>1.000000</td>\n",
       "    </tr>\n",
       "  </tbody>\n",
       "</table>\n",
       "</div>"
      ],
      "text/plain": [
       "       passenger_id     pclass         age       sibsp       parch  \\\n",
       "count    850.000000  850.00000  676.000000  850.000000  850.000000   \n",
       "mean     662.816471    2.32000   29.519847    0.522353    0.382353   \n",
       "std      380.751936    0.83853   14.562243    1.112132    0.879511   \n",
       "min        1.000000    1.00000    0.166700    0.000000    0.000000   \n",
       "25%      332.250000    2.00000   20.000000    0.000000    0.000000   \n",
       "50%      676.500000    3.00000   28.000000    0.000000    0.000000   \n",
       "75%      992.250000    3.00000   37.000000    1.000000    0.000000   \n",
       "max     1307.000000    3.00000   80.000000    8.000000    9.000000   \n",
       "\n",
       "             fare        body    survived  \n",
       "count  849.000000   73.000000  850.000000  \n",
       "mean    34.012701  165.821918    0.368235  \n",
       "std     53.705779   99.068487    0.482610  \n",
       "min      0.000000    4.000000    0.000000  \n",
       "25%      7.895800   75.000000    0.000000  \n",
       "50%     14.108300  166.000000    0.000000  \n",
       "75%     31.000000  260.000000    1.000000  \n",
       "max    512.329200  328.000000    1.000000  "
      ]
     },
     "execution_count": 6,
     "metadata": {},
     "output_type": "execute_result"
    }
   ],
   "source": [
    "#inspect the statistics of the dataset\n",
    "titanic_copy.describe()"
   ]
  },
  {
   "cell_type": "code",
   "execution_count": 7,
   "metadata": {},
   "outputs": [
    {
     "data": {
      "text/plain": [
       "(850, 15)"
      ]
     },
     "execution_count": 7,
     "metadata": {},
     "output_type": "execute_result"
    }
   ],
   "source": [
    "#inspect the dimension of the dataset\n",
    "titanic_copy.shape"
   ]
  },
  {
   "cell_type": "code",
   "execution_count": 8,
   "metadata": {},
   "outputs": [
    {
     "data": {
      "text/plain": [
       "passenger_id      0\n",
       "pclass            0\n",
       "name              0\n",
       "sex               0\n",
       "age             174\n",
       "sibsp             0\n",
       "parch             0\n",
       "ticket            0\n",
       "fare              1\n",
       "cabin           659\n",
       "embarked          1\n",
       "boat            542\n",
       "body            777\n",
       "home.dest       386\n",
       "survived          0\n",
       "dtype: int64"
      ]
     },
     "execution_count": 8,
     "metadata": {},
     "output_type": "execute_result"
    }
   ],
   "source": [
    "#inspect for columns with missing rows\n",
    "titanic_copy.isnull().sum()"
   ]
  },
  {
   "cell_type": "code",
   "execution_count": 9,
   "metadata": {},
   "outputs": [
    {
     "data": {
      "text/plain": [
       "passenger_id      int64\n",
       "pclass            int64\n",
       "name             object\n",
       "sex              object\n",
       "age             float64\n",
       "sibsp             int64\n",
       "parch             int64\n",
       "ticket           object\n",
       "fare            float64\n",
       "cabin            object\n",
       "embarked         object\n",
       "boat             object\n",
       "body            float64\n",
       "home.dest        object\n",
       "survived          int64\n",
       "dtype: object"
      ]
     },
     "execution_count": 9,
     "metadata": {},
     "output_type": "execute_result"
    }
   ],
   "source": [
    "#inspect the data types in order to know the columns with categorical values\n",
    "titanic_copy.dtypes"
   ]
  },
  {
   "cell_type": "markdown",
   "metadata": {},
   "source": [
    "# Data Preparation And Cleaning"
   ]
  },
  {
   "cell_type": "code",
   "execution_count": 10,
   "metadata": {},
   "outputs": [
    {
     "data": {
      "text/plain": [
       "<matplotlib.axes._subplots.AxesSubplot at 0x296e9bfb4c8>"
      ]
     },
     "execution_count": 10,
     "metadata": {},
     "output_type": "execute_result"
    },
    {
     "data": {
      "image/png": "[encoded data removed]",
      "text/plain": [
       "<Figure size 432x288 with 1 Axes>"
      ]
     },
     "metadata": {
      "needs_background": "light"
     },
     "output_type": "display_data"
    }
   ],
   "source": [
    "#Visualise the KDE of age\n",
    "sns.kdeplot(titanic_copy.age)"
   ]
  },
  {
   "cell_type": "code",
   "execution_count": 11,
   "metadata": {},
   "outputs": [],
   "source": [
    "#Fill the null values of \"age\" with the mean of the \"age\" column\n",
    "titanic_copy.age.fillna(np.round(titanic_copy.age.mean()), inplace=True)"
   ]
  },
  {
   "cell_type": "code",
   "execution_count": 12,
   "metadata": {},
   "outputs": [],
   "source": [
    "#Fill the null values of \"body\" with the mean of the \"body\" column\n",
    "titanic_copy.body.fillna(np.round(titanic_copy.body.mean()), inplace=True)"
   ]
  },
  {
   "cell_type": "code",
   "execution_count": 13,
   "metadata": {},
   "outputs": [],
   "source": [
    "#Fill the null values of \"fare\" with the upper quartile of the \"fare\" column\n",
    "titanic_copy.fare.fillna(np.quantile(titanic_copy.fare.mean(), 0.75), inplace=True)"
   ]
  },
  {
   "cell_type": "code",
   "execution_count": 14,
   "metadata": {},
   "outputs": [],
   "source": [
    "#Fill the null values of \"embarked\" with the mode of the \"embarked\" column\n",
    "titanic_copy.embarked.fillna(titanic_copy.embarked.mode()[0], inplace=True)"
   ]
  },
  {
   "cell_type": "code",
   "execution_count": 15,
   "metadata": {},
   "outputs": [
    {
     "data": {
      "text/plain": [
       "4          25\n",
       "C          24\n",
       "14         23\n",
       "13         23\n",
       "15         19\n",
       "16         18\n",
       "9          18\n",
       "10         18\n",
       "3          16\n",
       "11         16\n",
       "7          14\n",
       "D          14\n",
       "8          13\n",
       "6          12\n",
       "5          12\n",
       "12         11\n",
       "A          10\n",
       "2           9\n",
       "B           4\n",
       "C D         2\n",
       "1           2\n",
       "15 16       1\n",
       "13 15       1\n",
       "5 7         1\n",
       "13 15 B     1\n",
       "5 9         1\n",
       "Name: boat, dtype: int64"
      ]
     },
     "execution_count": 15,
     "metadata": {},
     "output_type": "execute_result"
    }
   ],
   "source": [
    "#inspect the \"boat\" column\n",
    "titanic_copy.boat.value_counts()"
   ]
  },
  {
   "cell_type": "code",
   "execution_count": 16,
   "metadata": {},
   "outputs": [],
   "source": [
    "#save the mode of \"boat\" column grouped by \"sex\" in two variables\n",
    "no_boat_male = titanic_copy.groupby(\"sex\").get_group(\"male\")[\"boat\"].mode()[0]\n",
    "no_boat_female = titanic_copy.groupby(\"sex\").get_group(\"female\")[\"boat\"].mode()[0]"
   ]
  },
  {
   "cell_type": "code",
   "execution_count": 17,
   "metadata": {},
   "outputs": [],
   "source": [
    "#use the values above to fill the NAs in \"boat\" column and save in two variables\n",
    "boat_male_null = titanic_copy.groupby(\"sex\").get_group(\"male\")[\"boat\"].fillna(value=no_boat_male)\n",
    "boat_female_null = titanic_copy.groupby(\"sex\").get_group(\"female\")[\"boat\"].fillna(value=no_boat_female)"
   ]
  },
  {
   "cell_type": "code",
   "execution_count": 18,
   "metadata": {},
   "outputs": [],
   "source": [
    "#update the dataset with these variables\n",
    "titanic_copy[\"boat\"].update(boat_male_null)\n",
    "titanic_copy[\"boat\"].update(boat_female_null)"
   ]
  },
  {
   "cell_type": "code",
   "execution_count": 20,
   "metadata": {},
   "outputs": [],
   "source": [
    "#Fill the null values of \"cabin\" with the mode of the \"cabin\" column\n",
    "titanic_copy.cabin.fillna(titanic_copy.cabin.mode()[0], inplace=True)"
   ]
  },
  {
   "cell_type": "code",
   "execution_count": 21,
   "metadata": {},
   "outputs": [
    {
     "data": {
      "text/plain": [
       "3    478\n",
       "1    206\n",
       "2    166\n",
       "Name: pclass, dtype: int64"
      ]
     },
     "execution_count": 21,
     "metadata": {},
     "output_type": "execute_result"
    }
   ],
   "source": [
    "#inspect the \"pclass\" column\n",
    "titanic_copy.pclass.value_counts()"
   ]
  },
  {
   "cell_type": "code",
   "execution_count": 22,
   "metadata": {},
   "outputs": [],
   "source": [
    "#save the mode of \"home.dest\" column grouped by \"pclass\" in three variables\n",
    "no_homedest_1 = titanic_copy.groupby(\"pclass\").get_group(1)[\"home.dest\"].mode()[0]\n",
    "no_homedest_2 = titanic_copy.groupby(\"pclass\").get_group(2)[\"home.dest\"].mode()[0]\n",
    "no_homedest_3 = titanic_copy.groupby(\"pclass\").get_group(3)[\"home.dest\"].mode()[0]"
   ]
  },
  {
   "cell_type": "code",
   "execution_count": 23,
   "metadata": {},
   "outputs": [],
   "source": [
    "#use the values above to fill the NAs in \"home.dest\" column and save in three variables\n",
    "homedest_1_null = titanic_copy.groupby(\"pclass\").get_group(1)[\"home.dest\"].fillna(value=no_boat_male)\n",
    "homedest_2_null = titanic_copy.groupby(\"pclass\").get_group(2)[\"home.dest\"].fillna(value=no_boat_male)\n",
    "homedest_3_null = titanic_copy.groupby(\"pclass\").get_group(3)[\"home.dest\"].fillna(value=no_boat_male)"
   ]
  },
  {
   "cell_type": "code",
   "execution_count": 24,
   "metadata": {},
   "outputs": [],
   "source": [
    "#update the dataset with these variables\n",
    "titanic_copy[\"home.dest\"].update(homedest_1_null)\n",
    "titanic_copy[\"home.dest\"].update(homedest_2_null)\n",
    "titanic_copy[\"home.dest\"].update(homedest_3_null)"
   ]
  },
  {
   "cell_type": "code",
   "execution_count": 25,
   "metadata": {},
   "outputs": [
    {
     "data": {
      "text/plain": [
       "passenger_id    0\n",
       "pclass          0\n",
       "name            0\n",
       "sex             0\n",
       "age             0\n",
       "sibsp           0\n",
       "parch           0\n",
       "ticket          0\n",
       "fare            0\n",
       "cabin           0\n",
       "embarked        0\n",
       "boat            0\n",
       "body            0\n",
       "home.dest       0\n",
       "survived        0\n",
       "dtype: int64"
      ]
     },
     "execution_count": 25,
     "metadata": {},
     "output_type": "execute_result"
    }
   ],
   "source": [
    "#inspect the whole dataset for missing values after cleaning\n",
    "titanic_copy.isnull().sum()"
   ]
  },
  {
   "cell_type": "code",
   "execution_count": 26,
   "metadata": {},
   "outputs": [
    {
     "data": {
      "text/html": [
       "<div>\n",
       "<style scoped>\n",
       "    .dataframe tbody tr th:only-of-type {\n",
       "        vertical-align: middle;\n",
       "    }\n",
       "\n",
       "    .dataframe tbody tr th {\n",
       "        vertical-align: top;\n",
       "    }\n",
       "\n",
       "    .dataframe thead th {\n",
       "        text-align: right;\n",
       "    }\n",
       "</style>\n",
       "<table border=\"1\" class=\"dataframe\">\n",
       "  <thead>\n",
       "    <tr style=\"text-align: right;\">\n",
       "      <th></th>\n",
       "      <th>name</th>\n",
       "      <th>sex</th>\n",
       "      <th>ticket</th>\n",
       "      <th>cabin</th>\n",
       "      <th>embarked</th>\n",
       "      <th>boat</th>\n",
       "      <th>home.dest</th>\n",
       "    </tr>\n",
       "  </thead>\n",
       "  <tbody>\n",
       "    <tr>\n",
       "      <th>0</th>\n",
       "      <td>Smyth, Miss. Julia</td>\n",
       "      <td>female</td>\n",
       "      <td>335432</td>\n",
       "      <td>B57 B59 B63 B66</td>\n",
       "      <td>Q</td>\n",
       "      <td>13</td>\n",
       "      <td>15</td>\n",
       "    </tr>\n",
       "    <tr>\n",
       "      <th>1</th>\n",
       "      <td>Cacic, Mr. Luka</td>\n",
       "      <td>male</td>\n",
       "      <td>315089</td>\n",
       "      <td>B57 B59 B63 B66</td>\n",
       "      <td>S</td>\n",
       "      <td>15</td>\n",
       "      <td>Croatia</td>\n",
       "    </tr>\n",
       "    <tr>\n",
       "      <th>2</th>\n",
       "      <td>Van Impe, Mrs. Jean Baptiste (Rosalie Paula Go...</td>\n",
       "      <td>female</td>\n",
       "      <td>345773</td>\n",
       "      <td>B57 B59 B63 B66</td>\n",
       "      <td>S</td>\n",
       "      <td>4</td>\n",
       "      <td>15</td>\n",
       "    </tr>\n",
       "    <tr>\n",
       "      <th>3</th>\n",
       "      <td>Hocking, Mrs. Elizabeth (Eliza Needs)</td>\n",
       "      <td>female</td>\n",
       "      <td>29105</td>\n",
       "      <td>B57 B59 B63 B66</td>\n",
       "      <td>S</td>\n",
       "      <td>4</td>\n",
       "      <td>Cornwall / Akron, OH</td>\n",
       "    </tr>\n",
       "    <tr>\n",
       "      <th>4</th>\n",
       "      <td>Veal, Mr. James</td>\n",
       "      <td>male</td>\n",
       "      <td>28221</td>\n",
       "      <td>B57 B59 B63 B66</td>\n",
       "      <td>S</td>\n",
       "      <td>15</td>\n",
       "      <td>Barre, Co Washington, VT</td>\n",
       "    </tr>\n",
       "  </tbody>\n",
       "</table>\n",
       "</div>"
      ],
      "text/plain": [
       "                                                name     sex  ticket  \\\n",
       "0                                 Smyth, Miss. Julia  female  335432   \n",
       "1                                    Cacic, Mr. Luka    male  315089   \n",
       "2  Van Impe, Mrs. Jean Baptiste (Rosalie Paula Go...  female  345773   \n",
       "3              Hocking, Mrs. Elizabeth (Eliza Needs)  female   29105   \n",
       "4                                    Veal, Mr. James    male   28221   \n",
       "\n",
       "             cabin embarked boat                 home.dest  \n",
       "0  B57 B59 B63 B66        Q   13                        15  \n",
       "1  B57 B59 B63 B66        S   15                   Croatia  \n",
       "2  B57 B59 B63 B66        S    4                        15  \n",
       "3  B57 B59 B63 B66        S    4      Cornwall / Akron, OH  \n",
       "4  B57 B59 B63 B66        S   15  Barre, Co Washington, VT  "
      ]
     },
     "execution_count": 26,
     "metadata": {},
     "output_type": "execute_result"
    }
   ],
   "source": [
    "#inspect all the columns with object datatype\n",
    "titanic_copy.select_dtypes(\"object\").head()"
   ]
  },
  {
   "cell_type": "markdown",
   "metadata": {},
   "source": [
    "# Data Encoding"
   ]
  },
  {
   "cell_type": "code",
   "execution_count": 27,
   "metadata": {},
   "outputs": [
    {
     "data": {
      "text/html": [
       "<div>\n",
       "<style scoped>\n",
       "    .dataframe tbody tr th:only-of-type {\n",
       "        vertical-align: middle;\n",
       "    }\n",
       "\n",
       "    .dataframe tbody tr th {\n",
       "        vertical-align: top;\n",
       "    }\n",
       "\n",
       "    .dataframe thead th {\n",
       "        text-align: right;\n",
       "    }\n",
       "</style>\n",
       "<table border=\"1\" class=\"dataframe\">\n",
       "  <thead>\n",
       "    <tr style=\"text-align: right;\">\n",
       "      <th></th>\n",
       "      <th>passenger_id</th>\n",
       "      <th>pclass</th>\n",
       "      <th>name</th>\n",
       "      <th>age</th>\n",
       "      <th>sibsp</th>\n",
       "      <th>parch</th>\n",
       "      <th>ticket</th>\n",
       "      <th>fare</th>\n",
       "      <th>cabin</th>\n",
       "      <th>boat</th>\n",
       "      <th>body</th>\n",
       "      <th>home.dest</th>\n",
       "      <th>survived</th>\n",
       "      <th>sex_male</th>\n",
       "      <th>embarked_Q</th>\n",
       "      <th>embarked_S</th>\n",
       "    </tr>\n",
       "  </thead>\n",
       "  <tbody>\n",
       "    <tr>\n",
       "      <th>0</th>\n",
       "      <td>1216</td>\n",
       "      <td>3</td>\n",
       "      <td>Smyth, Miss. Julia</td>\n",
       "      <td>30.0</td>\n",
       "      <td>0</td>\n",
       "      <td>0</td>\n",
       "      <td>335432</td>\n",
       "      <td>7.7333</td>\n",
       "      <td>B57 B59 B63 B66</td>\n",
       "      <td>13</td>\n",
       "      <td>166.0</td>\n",
       "      <td>15</td>\n",
       "      <td>1</td>\n",
       "      <td>0</td>\n",
       "      <td>1</td>\n",
       "      <td>0</td>\n",
       "    </tr>\n",
       "    <tr>\n",
       "      <th>1</th>\n",
       "      <td>699</td>\n",
       "      <td>3</td>\n",
       "      <td>Cacic, Mr. Luka</td>\n",
       "      <td>38.0</td>\n",
       "      <td>0</td>\n",
       "      <td>0</td>\n",
       "      <td>315089</td>\n",
       "      <td>8.6625</td>\n",
       "      <td>B57 B59 B63 B66</td>\n",
       "      <td>15</td>\n",
       "      <td>166.0</td>\n",
       "      <td>Croatia</td>\n",
       "      <td>0</td>\n",
       "      <td>1</td>\n",
       "      <td>0</td>\n",
       "      <td>1</td>\n",
       "    </tr>\n",
       "    <tr>\n",
       "      <th>2</th>\n",
       "      <td>1267</td>\n",
       "      <td>3</td>\n",
       "      <td>Van Impe, Mrs. Jean Baptiste (Rosalie Paula Go...</td>\n",
       "      <td>30.0</td>\n",
       "      <td>1</td>\n",
       "      <td>1</td>\n",
       "      <td>345773</td>\n",
       "      <td>24.1500</td>\n",
       "      <td>B57 B59 B63 B66</td>\n",
       "      <td>4</td>\n",
       "      <td>166.0</td>\n",
       "      <td>15</td>\n",
       "      <td>0</td>\n",
       "      <td>0</td>\n",
       "      <td>0</td>\n",
       "      <td>1</td>\n",
       "    </tr>\n",
       "    <tr>\n",
       "      <th>3</th>\n",
       "      <td>449</td>\n",
       "      <td>2</td>\n",
       "      <td>Hocking, Mrs. Elizabeth (Eliza Needs)</td>\n",
       "      <td>54.0</td>\n",
       "      <td>1</td>\n",
       "      <td>3</td>\n",
       "      <td>29105</td>\n",
       "      <td>23.0000</td>\n",
       "      <td>B57 B59 B63 B66</td>\n",
       "      <td>4</td>\n",
       "      <td>166.0</td>\n",
       "      <td>Cornwall / Akron, OH</td>\n",
       "      <td>1</td>\n",
       "      <td>0</td>\n",
       "      <td>0</td>\n",
       "      <td>1</td>\n",
       "    </tr>\n",
       "    <tr>\n",
       "      <th>4</th>\n",
       "      <td>576</td>\n",
       "      <td>2</td>\n",
       "      <td>Veal, Mr. James</td>\n",
       "      <td>40.0</td>\n",
       "      <td>0</td>\n",
       "      <td>0</td>\n",
       "      <td>28221</td>\n",
       "      <td>13.0000</td>\n",
       "      <td>B57 B59 B63 B66</td>\n",
       "      <td>15</td>\n",
       "      <td>166.0</td>\n",
       "      <td>Barre, Co Washington, VT</td>\n",
       "      <td>0</td>\n",
       "      <td>1</td>\n",
       "      <td>0</td>\n",
       "      <td>1</td>\n",
       "    </tr>\n",
       "    <tr>\n",
       "      <th>...</th>\n",
       "      <td>...</td>\n",
       "      <td>...</td>\n",
       "      <td>...</td>\n",
       "      <td>...</td>\n",
       "      <td>...</td>\n",
       "      <td>...</td>\n",
       "      <td>...</td>\n",
       "      <td>...</td>\n",
       "      <td>...</td>\n",
       "      <td>...</td>\n",
       "      <td>...</td>\n",
       "      <td>...</td>\n",
       "      <td>...</td>\n",
       "      <td>...</td>\n",
       "      <td>...</td>\n",
       "      <td>...</td>\n",
       "    </tr>\n",
       "    <tr>\n",
       "      <th>845</th>\n",
       "      <td>158</td>\n",
       "      <td>1</td>\n",
       "      <td>Hipkins, Mr. William Edward</td>\n",
       "      <td>55.0</td>\n",
       "      <td>0</td>\n",
       "      <td>0</td>\n",
       "      <td>680</td>\n",
       "      <td>50.0000</td>\n",
       "      <td>C39</td>\n",
       "      <td>15</td>\n",
       "      <td>166.0</td>\n",
       "      <td>London / Birmingham</td>\n",
       "      <td>0</td>\n",
       "      <td>1</td>\n",
       "      <td>0</td>\n",
       "      <td>1</td>\n",
       "    </tr>\n",
       "    <tr>\n",
       "      <th>846</th>\n",
       "      <td>174</td>\n",
       "      <td>1</td>\n",
       "      <td>Kent, Mr. Edward Austin</td>\n",
       "      <td>58.0</td>\n",
       "      <td>0</td>\n",
       "      <td>0</td>\n",
       "      <td>11771</td>\n",
       "      <td>29.7000</td>\n",
       "      <td>B37</td>\n",
       "      <td>15</td>\n",
       "      <td>258.0</td>\n",
       "      <td>Buffalo, NY</td>\n",
       "      <td>0</td>\n",
       "      <td>1</td>\n",
       "      <td>0</td>\n",
       "      <td>0</td>\n",
       "    </tr>\n",
       "    <tr>\n",
       "      <th>847</th>\n",
       "      <td>467</td>\n",
       "      <td>2</td>\n",
       "      <td>Kantor, Mrs. Sinai (Miriam Sternin)</td>\n",
       "      <td>24.0</td>\n",
       "      <td>1</td>\n",
       "      <td>0</td>\n",
       "      <td>244367</td>\n",
       "      <td>26.0000</td>\n",
       "      <td>B57 B59 B63 B66</td>\n",
       "      <td>12</td>\n",
       "      <td>166.0</td>\n",
       "      <td>Moscow / Bronx, NY</td>\n",
       "      <td>1</td>\n",
       "      <td>0</td>\n",
       "      <td>0</td>\n",
       "      <td>1</td>\n",
       "    </tr>\n",
       "    <tr>\n",
       "      <th>848</th>\n",
       "      <td>1112</td>\n",
       "      <td>3</td>\n",
       "      <td>Peacock, Miss. Treasteall</td>\n",
       "      <td>3.0</td>\n",
       "      <td>1</td>\n",
       "      <td>1</td>\n",
       "      <td>SOTON/O.Q. 3101315</td>\n",
       "      <td>13.7750</td>\n",
       "      <td>B57 B59 B63 B66</td>\n",
       "      <td>4</td>\n",
       "      <td>166.0</td>\n",
       "      <td>15</td>\n",
       "      <td>0</td>\n",
       "      <td>0</td>\n",
       "      <td>0</td>\n",
       "      <td>1</td>\n",
       "    </tr>\n",
       "    <tr>\n",
       "      <th>849</th>\n",
       "      <td>425</td>\n",
       "      <td>2</td>\n",
       "      <td>Greenberg, Mr. Samuel</td>\n",
       "      <td>52.0</td>\n",
       "      <td>0</td>\n",
       "      <td>0</td>\n",
       "      <td>250647</td>\n",
       "      <td>13.0000</td>\n",
       "      <td>B57 B59 B63 B66</td>\n",
       "      <td>15</td>\n",
       "      <td>19.0</td>\n",
       "      <td>Bronx, NY</td>\n",
       "      <td>0</td>\n",
       "      <td>1</td>\n",
       "      <td>0</td>\n",
       "      <td>1</td>\n",
       "    </tr>\n",
       "  </tbody>\n",
       "</table>\n",
       "<p>850 rows × 16 columns</p>\n",
       "</div>"
      ],
      "text/plain": [
       "     passenger_id  pclass                                               name  \\\n",
       "0            1216       3                                 Smyth, Miss. Julia   \n",
       "1             699       3                                    Cacic, Mr. Luka   \n",
       "2            1267       3  Van Impe, Mrs. Jean Baptiste (Rosalie Paula Go...   \n",
       "3             449       2              Hocking, Mrs. Elizabeth (Eliza Needs)   \n",
       "4             576       2                                    Veal, Mr. James   \n",
       "..            ...     ...                                                ...   \n",
       "845           158       1                        Hipkins, Mr. William Edward   \n",
       "846           174       1                            Kent, Mr. Edward Austin   \n",
       "847           467       2                Kantor, Mrs. Sinai (Miriam Sternin)   \n",
       "848          1112       3                          Peacock, Miss. Treasteall   \n",
       "849           425       2                              Greenberg, Mr. Samuel   \n",
       "\n",
       "      age  sibsp  parch              ticket     fare            cabin boat  \\\n",
       "0    30.0      0      0              335432   7.7333  B57 B59 B63 B66   13   \n",
       "1    38.0      0      0              315089   8.6625  B57 B59 B63 B66   15   \n",
       "2    30.0      1      1              345773  24.1500  B57 B59 B63 B66    4   \n",
       "3    54.0      1      3               29105  23.0000  B57 B59 B63 B66    4   \n",
       "4    40.0      0      0               28221  13.0000  B57 B59 B63 B66   15   \n",
       "..    ...    ...    ...                 ...      ...              ...  ...   \n",
       "845  55.0      0      0                 680  50.0000              C39   15   \n",
       "846  58.0      0      0               11771  29.7000              B37   15   \n",
       "847  24.0      1      0              244367  26.0000  B57 B59 B63 B66   12   \n",
       "848   3.0      1      1  SOTON/O.Q. 3101315  13.7750  B57 B59 B63 B66    4   \n",
       "849  52.0      0      0              250647  13.0000  B57 B59 B63 B66   15   \n",
       "\n",
       "      body                 home.dest  survived  sex_male  embarked_Q  \\\n",
       "0    166.0                        15         1         0           1   \n",
       "1    166.0                   Croatia         0         1           0   \n",
       "2    166.0                        15         0         0           0   \n",
       "3    166.0      Cornwall / Akron, OH         1         0           0   \n",
       "4    166.0  Barre, Co Washington, VT         0         1           0   \n",
       "..     ...                       ...       ...       ...         ...   \n",
       "845  166.0       London / Birmingham         0         1           0   \n",
       "846  258.0               Buffalo, NY         0         1           0   \n",
       "847  166.0        Moscow / Bronx, NY         1         0           0   \n",
       "848  166.0                        15         0         0           0   \n",
       "849   19.0                 Bronx, NY         0         1           0   \n",
       "\n",
       "     embarked_S  \n",
       "0             0  \n",
       "1             1  \n",
       "2             1  \n",
       "3             1  \n",
       "4             1  \n",
       "..          ...  \n",
       "845           1  \n",
       "846           0  \n",
       "847           1  \n",
       "848           1  \n",
       "849           1  \n",
       "\n",
       "[850 rows x 16 columns]"
      ]
     },
     "execution_count": 27,
     "metadata": {},
     "output_type": "execute_result"
    }
   ],
   "source": [
    "titanic_copy_encoded = pd.get_dummies(titanic_copy, columns=[\"sex\",\"embarked\"], drop_first=True)\n",
    "titanic_copy_encoded"
   ]
  },
  {
   "cell_type": "markdown",
   "metadata": {},
   "source": [
    "# Feature Selection"
   ]
  },
  {
   "cell_type": "code",
   "execution_count": 28,
   "metadata": {},
   "outputs": [
    {
     "data": {
      "text/plain": [
       "pclass          int64\n",
       "age           float64\n",
       "sibsp           int64\n",
       "parch           int64\n",
       "fare          float64\n",
       "body          float64\n",
       "survived        int64\n",
       "sex_male        uint8\n",
       "embarked_Q      uint8\n",
       "embarked_S      uint8\n",
       "dtype: object"
      ]
     },
     "execution_count": 28,
     "metadata": {},
     "output_type": "execute_result"
    }
   ],
   "source": [
    "X = titanic_copy_encoded.drop([\"passenger_id\", \"name\", \"ticket\", \"cabin\", \"boat\", \"home.dest\"], axis=1)\n",
    "y = titanic_copy_encoded.survived"
   ]
  },
  {
   "cell_type": "markdown",
   "metadata": {},
   "source": [
    "# Build the Model"
   ]
  },
  {
   "cell_type": "markdown",
   "metadata": {},
   "source": [
    "<h4>Linear Regression And Random Forest Classifier Model Function</h4>"
   ]
  },
  {
   "cell_type": "code",
   "execution_count": 29,
   "metadata": {},
   "outputs": [],
   "source": [
    "def Model(X, y, model):\n",
    "    try:\n",
    "        #split the data\n",
    "        X_train_validation, X_test, y_train_validation, y_test = train_test_split(X, y, random_state=0)\n",
    "        X_train, X_validation, y_train, y_validation = train_test_split(X_train_validation, y_train_validation, random_state=0)\n",
    "        #scale the features\n",
    "        scaler = StandardScaler()\n",
    "        X_train_scaled = scaler.fit_transform(X_train)\n",
    "        X_validation_scaled = scaler.transform(X_validation)\n",
    "        X_test_scaled = scaler.transform(X_test)\n",
    "        if model == 1:\n",
    "            #train the Random Forest model\n",
    "            reg = RandomForestClassifier(random_state=0)\n",
    "            reg.fit(X_train_scaled, y_train)\n",
    "            print(\"Random Forest Classifier DONE...\")\n",
    "        elif model == 2:\n",
    "            #build the Logistic Regression model\n",
    "            reg = LogisticRegression()\n",
    "            reg.fit(X_train_scaled, y_train)\n",
    "            print(\"Logistic Regression DONE...\")\n",
    "        else:\n",
    "            print(\"Invalid input\")\n",
    "        return X_train_scaled, X_validation_scaled, X_test_scaled, y_train, y_validation, y_test, reg\n",
    "    except:\n",
    "        pass"
   ]
  },
  {
   "cell_type": "markdown",
   "metadata": {},
   "source": [
    "<h4>Parameter Tuning Function</h4>"
   ]
  },
  {
   "cell_type": "code",
   "execution_count": 30,
   "metadata": {},
   "outputs": [],
   "source": [
    "def Parametertuning(X_train_scaled, X_validation_scaled, y_train, y_validation, model):\n",
    "    try:\n",
    "        train_accuracy = []\n",
    "        validation_accuracy = []\n",
    "        #hyper-parameter tuning and get the best value of regularization constant c in order to avoid overfitting\n",
    "        if model == 1:\n",
    "            #hyper-parameter tune and get the best value of the number of trees in the forest in order to avoid overfitting\n",
    "            no_of_trees = [1, 2, 5, 10, 100, 200, 300, 400, 500, 600, 700, 800, 900, 1000]\n",
    "            for tree in no_of_trees:\n",
    "                reg = RandomForestClassifier(n_estimators=tree, random_state=0)\n",
    "                reg.fit(X_train_scaled, y_train)\n",
    "                train_accuracy.append(reg.score(X_train_scaled, y_train))\n",
    "                validation_accuracy.append(reg.score(X_validation_scaled, y_validation))\n",
    "            plt.plot(no_of_trees, train_accuracy, label = \"Training Accuracy\")\n",
    "            plt.plot(no_of_trees, validation_accuracy, label = \"Validation Accuracy\")\n",
    "            plt.legend()\n",
    "            plt.xlabel(\"No. of Trees\")\n",
    "            plt.ylabel(\"Accuracies\")\n",
    "            plt.show()\n",
    "        elif model == 2:\n",
    "            values_of_C = [0.01, 0.02, 0.05, 0.1, 0.15, 0.2, 0.25, 0.5, 0.6, 0.8]\n",
    "            for c in values_of_C:\n",
    "                reg = LogisticRegression(C = c)\n",
    "                reg.fit(X_train_scaled, y_train)\n",
    "                train_accuracy.append(reg.score(X_train_scaled, y_train))\n",
    "                validation_accuracy.append(reg.score(X_validation_scaled, y_validation))\n",
    "            plt.plot(values_of_C, train_accuracy, label = \"Training Accuracy\")\n",
    "            plt.plot(values_of_C, validation_accuracy, label = \"Validation Accuracy\")\n",
    "            plt.legend()\n",
    "            plt.xlabel(\"Values of C\")\n",
    "            plt.ylabel(\"Accuracies\")\n",
    "            plt.show()\n",
    "    except:\n",
    "        pass"
   ]
  },
  {
   "cell_type": "markdown",
   "metadata": {},
   "source": [
    "<h4>Parameter Tuning Function</h4>"
   ]
  },
  {
   "cell_type": "code",
   "execution_count": 31,
   "metadata": {},
   "outputs": [],
   "source": [
    "def Retrain(X_train_scaled, y_train, k, model):\n",
    "    try:\n",
    "        #re-train the Logistic Regression model\n",
    "        if model == 1:\n",
    "            reg = RandomForestClassifier(n_estimators=k, random_state=0)\n",
    "            reg.fit(X_train_scaled, y_train)\n",
    "        #re-train the Random Forest model\n",
    "        elif model == 2:\n",
    "            reg = LogisticRegression(C=k)\n",
    "            reg.fit(X_train_scaled, y_train)\n",
    "        return reg\n",
    "    except:\n",
    "        pass"
   ]
  },
  {
   "cell_type": "code",
   "execution_count": 32,
   "metadata": {},
   "outputs": [
    {
     "name": "stdin",
     "output_type": "stream",
     "text": [
      "Enter 1 for Random Forest Classifier... Enter 2 for Logistic Regression:  1\n"
     ]
    },
    {
     "name": "stdout",
     "output_type": "stream",
     "text": [
      "Random Forest Classifier DONE...\n"
     ]
    }
   ],
   "source": [
    "#call the model function and unpack it for Random Forest Classifier\n",
    "reg_type=int(input(\"Enter 1 for Random Forest Classifier... Enter 2 for Logistic Regression: \"))\n",
    "X_train_scaled, X_validation_scaled, X_test_scaled, y_train, y_validation, y_test, reg = Model(X, y, reg_type)"
   ]
  },
  {
   "cell_type": "markdown",
   "metadata": {},
   "source": [
    "<h4>Predict And Evaluate Performance</h4>"
   ]
  },
  {
   "cell_type": "code",
   "execution_count": 33,
   "metadata": {},
   "outputs": [
    {
     "name": "stdout",
     "output_type": "stream",
     "text": [
      "[1 1 0 1 1 0 1 0 1 1 1 1 0 1 0 1 0 0 1 0 1 1 0 0 1 0 0 1 0 1 0 0 0 1 0 1 1\n",
      " 0 1 1 1 1 1 1 0 1 0 0 0 1 1 0 1 1 0 0 1 1 0 0 1 1 1 1 0 1 0 1 1 1 1 1 1 1\n",
      " 1 1 0 0 1 1 0 1 0 1 1 1 1 0 0 0 1 1 1 1 1 0 1 1 1 0 1 1 0 1 0 1 0 0 0 0 0\n",
      " 1 1 1 1 1 1 0 1 1 1 1 1 0 1 0 1 1 1 1 0 1 0 1 1 1 1 1 0 0 1 1 0 0 0 1 0 1\n",
      " 1 1 1 1 1 0 0 1 1 1 1 0]\n",
      "1    101\n",
      "0     59\n",
      "Name: survived, dtype: int64\n"
     ]
    }
   ],
   "source": [
    "#predict the output of the Validation dataset\n",
    "y_pred1 = reg.predict(X_validation_scaled)\n",
    "print(titanic_copy_encoded[\"survived\"][y_pred1].values)\n",
    "print(titanic_copy_encoded[\"survived\"][y_pred1].value_counts())"
   ]
  },
  {
   "cell_type": "code",
   "execution_count": 34,
   "metadata": {},
   "outputs": [
    {
     "name": "stdout",
     "output_type": "stream",
     "text": [
      "Train Accuracy: \t100.0%\n",
      "Validation Accuracy: \t100.0%\n"
     ]
    }
   ],
   "source": [
    "#check the performance of the model on the training and validation dataset\n",
    "print(f\"Train Accuracy: \\t{reg.score(X_train_scaled, y_train)*100:.4}%\")\n",
    "print(f\"Validation Accuracy: \\t{reg.score(X_validation_scaled, y_validation)*100:.4}%\")"
   ]
  },
  {
   "cell_type": "markdown",
   "metadata": {},
   "source": [
    "<h4>Tune The Parameters And Retrain The Model</h4>"
   ]
  },
  {
   "cell_type": "code",
   "execution_count": 35,
   "metadata": {},
   "outputs": [
    {
     "data": {
      "image/png": "[encoded data removed]",
      "text/plain": [
       "<Figure size 432x288 with 1 Axes>"
      ]
     },
     "metadata": {
      "needs_background": "light"
     },
     "output_type": "display_data"
    }
   ],
   "source": [
    "Parametertuning(X_train_scaled, X_validation_scaled, y_train, y_validation, reg_type)"
   ]
  },
  {
   "cell_type": "code",
   "execution_count": 36,
   "metadata": {},
   "outputs": [
    {
     "name": "stdin",
     "output_type": "stream",
     "text": [
      "Enter a good approximate number of trees:  2\n"
     ]
    }
   ],
   "source": [
    "tree = int(input(\"Enter a good approximate number of trees: \"))\n",
    "reg_new = Retrain(X_train_scaled, y_train, tree, reg_type)"
   ]
  },
  {
   "cell_type": "code",
   "execution_count": 37,
   "metadata": {},
   "outputs": [
    {
     "name": "stdout",
     "output_type": "stream",
     "text": [
      "Modified Train Accuracy: \t100.0%\n",
      "Modified Validation Accuracy: \t100.0%\n",
      "Modified Test Accuracy: \t100.0%\n"
     ]
    }
   ],
   "source": [
    "#check the performance of the new model\n",
    "print(f\"Modified Train Accuracy: \\t{reg_new.score(X_train_scaled, y_train)*100:.4}%\")\n",
    "print(f\"Modified Validation Accuracy: \\t{reg_new.score(X_validation_scaled, y_validation)*100:.4}%\")\n",
    "print(f\"Modified Test Accuracy: \\t{reg_new.score(X_test_scaled, y_test)*100:.4}%\")"
   ]
  },
  {
   "cell_type": "code",
   "execution_count": 38,
   "metadata": {},
   "outputs": [
    {
     "name": "stdin",
     "output_type": "stream",
     "text": [
      "Enter 1 for Random Forest Classifier... Enter 2 for Logistic Regression:  2\n"
     ]
    },
    {
     "name": "stdout",
     "output_type": "stream",
     "text": [
      "Logistic Regression DONE...\n"
     ]
    }
   ],
   "source": [
    "#call the model function and unpack it for Logistic Regression\n",
    "reg_type=float(input(\"Enter 1 for Random Forest Classifier... Enter 2 for Logistic Regression: \"))\n",
    "X_train_scaled, X_validation_scaled, X_test_scaled, y_train, y_validation, y_test, reg = Model(X, y,reg_type)"
   ]
  },
  {
   "cell_type": "markdown",
   "metadata": {},
   "source": [
    "<h4>Predict And Evaluate Performance</h4>"
   ]
  },
  {
   "cell_type": "code",
   "execution_count": 39,
   "metadata": {},
   "outputs": [
    {
     "name": "stdout",
     "output_type": "stream",
     "text": [
      "[1 1 0 1 1 0 1 0 1 1 1 1 0 1 0 1 0 0 1 0 1 1 0 0 1 0 0 1 0 1 0 0 0 1 0 1 1\n",
      " 0 1 1 1 1 1 1 0 1 0 0 0 1 1 0 1 1 0 0 1 1 0 0 1 1 1 1 0 1 0 1 1 1 1 1 1 1\n",
      " 1 1 0 0 1 1 0 1 0 1 1 1 1 0 0 0 1 1 1 1 1 0 1 1 1 0 1 1 0 1 0 1 0 0 0 0 0\n",
      " 1 1 1 1 1 1 0 1 1 1 1 1 0 1 0 1 1 1 1 0 1 0 1 1 1 1 1 0 0 1 1 0 0 0 1 0 1\n",
      " 1 1 1 1 1 0 0 1 1 1 1 0]\n",
      "1    101\n",
      "0     59\n",
      "Name: survived, dtype: int64\n"
     ]
    }
   ],
   "source": [
    "#predict the output of the Validation dataset\n",
    "y_pred1 = reg.predict(X_validation_scaled)\n",
    "print(titanic_copy_encoded[\"survived\"][y_pred1].values)\n",
    "print(titanic_copy_encoded[\"survived\"][y_pred1].value_counts())"
   ]
  },
  {
   "cell_type": "code",
   "execution_count": 40,
   "metadata": {},
   "outputs": [
    {
     "name": "stdout",
     "output_type": "stream",
     "text": [
      "Train Accuracy: \t100.0%\n",
      "Validation Accuracy: \t100.0%\n"
     ]
    }
   ],
   "source": [
    "#check the performance of the model on the training and validation dataset\n",
    "print(f\"Train Accuracy: \\t{reg.score(X_train_scaled, y_train)*100:.4}%\")\n",
    "print(f\"Validation Accuracy: \\t{reg.score(X_validation_scaled, y_validation)*100:.4}%\")"
   ]
  },
  {
   "cell_type": "markdown",
   "metadata": {},
   "source": [
    "<h4>Tune The Parameters And Retrain The Model</h4>"
   ]
  },
  {
   "cell_type": "code",
   "execution_count": 41,
   "metadata": {},
   "outputs": [
    {
     "data": {
      "image/png": "[encoded data removed]",
      "text/plain": [
       "<Figure size 432x288 with 1 Axes>"
      ]
     },
     "metadata": {
      "needs_background": "light"
     },
     "output_type": "display_data"
    }
   ],
   "source": [
    "Parametertuning(X_train_scaled, X_validation_scaled, y_train, y_validation, reg_type)"
   ]
  },
  {
   "cell_type": "code",
   "execution_count": 42,
   "metadata": {},
   "outputs": [
    {
     "name": "stdin",
     "output_type": "stream",
     "text": [
      "Enter a good approximate regularisation constant c:  0.1\n"
     ]
    }
   ],
   "source": [
    "c = float(input(\"Enter a good approximate regularisation constant c: \"))\n",
    "reg_new = Retrain(X_train_scaled, y_train, c, reg_type)"
   ]
  },
  {
   "cell_type": "code",
   "execution_count": 43,
   "metadata": {},
   "outputs": [
    {
     "name": "stdout",
     "output_type": "stream",
     "text": [
      "Modified Train Accuracy: \t100.0%\n",
      "Modified Validation Accuracy: \t100.0%\n",
      "Modified Test Accuracy: \t100.0%\n"
     ]
    }
   ],
   "source": [
    "#check the performance of the new model\n",
    "print(f\"Modified Train Accuracy: \\t{reg_new.score(X_train_scaled, y_train)*100:.4}%\")\n",
    "print(f\"Modified Validation Accuracy: \\t{reg_new.score(X_validation_scaled, y_validation)*100:.4}%\")\n",
    "print(f\"Modified Test Accuracy: \\t{reg_new.score(X_test_scaled, y_test)*100:.4}%\")"
   ]
  },
  {
   "cell_type": "code",
   "execution_count": null,
   "metadata": {},
   "outputs": [],
   "source": []
  }
 ],
 "metadata": {
  "kernelspec": {
   "display_name": "Python 3",
   "language": "python",
   "name": "python3"
  },
  "language_info": {
   "codemirror_mode": {
    "name": "ipython",
    "version": 3
   },
   "file_extension": ".py",
   "mimetype": "text/x-python",
   "name": "python",
   "nbconvert_exporter": "python",
   "pygments_lexer": "ipython3",
   "version": "3.7.6"
  }
 },
 "nbformat": 4,
 "nbformat_minor": 4
}
